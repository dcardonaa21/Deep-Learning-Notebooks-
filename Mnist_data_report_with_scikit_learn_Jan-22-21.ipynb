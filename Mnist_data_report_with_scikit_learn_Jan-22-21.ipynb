{
  "nbformat": 4,
  "nbformat_minor": 0,
  "metadata": {
    "colab": {
      "name": "Mnist data report with scikit-learn.ipynb",
      "provenance": [],
      "collapsed_sections": []
    },
    "kernelspec": {
      "name": "python3",
      "display_name": "Python 3"
    },
    "accelerator": "GPU"
  },
  "cells": [
    {
      "cell_type": "markdown",
      "metadata": {
        "id": "v_VXtTtyqIp5"
      },
      "source": [
        "**Mnist Model**\r\n",
        "For this report, we're looking for a model that recognices handwritten images from Mnist data with an accuracy greater than 85% in order to be able to predict which number the image belongs to. "
      ]
    },
    {
      "cell_type": "code",
      "metadata": {
        "id": "8rQwzI3sHHrK"
      },
      "source": [
        "import numpy as np\r\n",
        "import pandas as pd\r\n",
        "from sklearn import svm"
      ],
      "execution_count": 1,
      "outputs": []
    },
    {
      "cell_type": "code",
      "metadata": {
        "id": "Hrfm5C0K5b-K"
      },
      "source": [
        "def data_pipeline_foo(path, raws=10000):\r\n",
        "  train_mnist = pd.read_csv(path, header=None)\r\n",
        "  Xs = train_mnist.loc[:, 1:784].values.reshape(raws, 28, 28)\r\n",
        "  Ys = train_mnist[0].values\r\n",
        "  return Xs, Ys\r\n"
      ],
      "execution_count": 9,
      "outputs": []
    },
    {
      "cell_type": "code",
      "metadata": {
        "id": "7U0AAP_l8fKt"
      },
      "source": [
        "path = \"/content/sample_data/mnist_train_small.csv\"\r\n",
        "Xs, Ys = data_pipeline_foo(path, raws=20000)"
      ],
      "execution_count": 10,
      "outputs": []
    },
    {
      "cell_type": "code",
      "metadata": {
        "id": "pYbunUK4BJaX"
      },
      "source": [
        "assert Xs.shape == (20000, 28, 28)\r\n",
        "assert Ys.shape == (20000,)"
      ],
      "execution_count": 11,
      "outputs": []
    },
    {
      "cell_type": "code",
      "metadata": {
        "id": "zc2z-7YEH7pv"
      },
      "source": [
        "Xs_vsm = Xs.reshape(20000, 28*28)\r\n",
        "Ys_vsm = Ys"
      ],
      "execution_count": 12,
      "outputs": []
    },
    {
      "cell_type": "code",
      "metadata": {
        "id": "t6VezsmxITzP"
      },
      "source": [
        "clf = svm.SVC()"
      ],
      "execution_count": 13,
      "outputs": []
    },
    {
      "cell_type": "code",
      "metadata": {
        "colab": {
          "base_uri": "https://localhost:8080/"
        },
        "id": "5Jtj-LpOIgKG",
        "outputId": "0a1d856b-ead1-49e3-f6d6-415ae7b35ac4"
      },
      "source": [
        "clf.fit(Xs_vsm, Ys_vsm)"
      ],
      "execution_count": 14,
      "outputs": [
        {
          "output_type": "execute_result",
          "data": {
            "text/plain": [
              "SVC(C=1.0, break_ties=False, cache_size=200, class_weight=None, coef0=0.0,\n",
              "    decision_function_shape='ovr', degree=3, gamma='scale', kernel='rbf',\n",
              "    max_iter=-1, probability=False, random_state=None, shrinking=True,\n",
              "    tol=0.001, verbose=False)"
            ]
          },
          "metadata": {
            "tags": []
          },
          "execution_count": 14
        }
      ]
    },
    {
      "cell_type": "code",
      "metadata": {
        "id": "7FqUrJmWIxGS"
      },
      "source": [
        "#sacar aleatoriamente una imagen de entrenamiento y de test e imprimir su etiqueta correspondiente"
      ],
      "execution_count": 15,
      "outputs": []
    },
    {
      "cell_type": "code",
      "metadata": {
        "id": "Yi5RnCNBJDIU"
      },
      "source": [
        "from google.colab.patches import cv2_imshow"
      ],
      "execution_count": 16,
      "outputs": []
    },
    {
      "cell_type": "code",
      "metadata": {
        "colab": {
          "base_uri": "https://localhost:8080/",
          "height": 80
        },
        "id": "_5NW0n_EK2zF",
        "outputId": "d361187c-1a90-4506-f9a5-a05456c41e65"
      },
      "source": [
        "cv2_imshow(Xs[23])\r\n",
        "print(clf.predict([Xs_vsm[23]]))\r\n",
        "print(Ys[23])"
      ],
      "execution_count": 17,
      "outputs": [
        {
          "output_type": "display_data",
          "data": {
            "image/png": "[encoded data removed]",
            "text/plain": [
              "<PIL.Image.Image image mode=L size=28x28 at 0x7FEFCF2698D0>"
            ]
          },
          "metadata": {
            "tags": []
          }
        },
        {
          "output_type": "stream",
          "text": [
            "[4]\n",
            "4\n"
          ],
          "name": "stdout"
        }
      ]
    },
    {
      "cell_type": "code",
      "metadata": {
        "id": "svnsmfeLvowM"
      },
      "source": [
        "path_test = \"/content/sample_data/mnist_test.csv\"\r\n",
        "Xs_test, Ys_test = data_pipeline_foo(path_test)\r\n"
      ],
      "execution_count": 18,
      "outputs": []
    },
    {
      "cell_type": "code",
      "metadata": {
        "id": "p8K1zaTROPVh"
      },
      "source": [
        "Xs_test_vsm = Xs_test.reshape((10000, 28*28))"
      ],
      "execution_count": 19,
      "outputs": []
    },
    {
      "cell_type": "code",
      "metadata": {
        "id": "K45WriicQDdA"
      },
      "source": [
        "assert Xs_test_vsm[23].shape == Xs_vsm[23].shape"
      ],
      "execution_count": 20,
      "outputs": []
    },
    {
      "cell_type": "code",
      "metadata": {
        "colab": {
          "base_uri": "https://localhost:8080/"
        },
        "id": "5GtBtL8NOILz",
        "outputId": "d983fd97-3ef4-402e-c2bb-865b944963f2"
      },
      "source": [
        "Ys_test.shape"
      ],
      "execution_count": 21,
      "outputs": [
        {
          "output_type": "execute_result",
          "data": {
            "text/plain": [
              "(10000,)"
            ]
          },
          "metadata": {
            "tags": []
          },
          "execution_count": 21
        }
      ]
    },
    {
      "cell_type": "code",
      "metadata": {
        "colab": {
          "base_uri": "https://localhost:8080/",
          "height": 80
        },
        "id": "rl_d7YX6z0bI",
        "outputId": "55e10116-fe10-4ef2-effb-616ed1851397"
      },
      "source": [
        "cv2_imshow(Xs_test[23])\r\n",
        "pred_ex = clf.predict([Xs_test_vsm[23]])\r\n",
        "print(pred_ex)\r\n",
        "print(Ys_test[23])"
      ],
      "execution_count": 22,
      "outputs": [
        {
          "output_type": "display_data",
          "data": {
            "image/png": "[encoded data removed]",
            "text/plain": [
              "<PIL.Image.Image image mode=L size=28x28 at 0x7FEFC620D278>"
            ]
          },
          "metadata": {
            "tags": []
          }
        },
        {
          "output_type": "stream",
          "text": [
            "[5]\n",
            "5\n"
          ],
          "name": "stdout"
        }
      ]
    },
    {
      "cell_type": "code",
      "metadata": {
        "id": "V2Qi3MF9T_0x"
      },
      "source": [
        "Y_pred = clf.predict(Xs_test_vsm)"
      ],
      "execution_count": 23,
      "outputs": []
    },
    {
      "cell_type": "code",
      "metadata": {
        "colab": {
          "base_uri": "https://localhost:8080/"
        },
        "id": "r3IbTOr2TO4U",
        "outputId": "1b4e7d88-56f7-43fc-936d-82b4ee56bd92"
      },
      "source": [
        "from sklearn.metrics import accuracy_score\r\n",
        "\r\n",
        "accuracy_score(Ys_test, Y_pred)"
      ],
      "execution_count": 24,
      "outputs": [
        {
          "output_type": "execute_result",
          "data": {
            "text/plain": [
              "0.97"
            ]
          },
          "metadata": {
            "tags": []
          },
          "execution_count": 24
        }
      ]
    }
  ]
}