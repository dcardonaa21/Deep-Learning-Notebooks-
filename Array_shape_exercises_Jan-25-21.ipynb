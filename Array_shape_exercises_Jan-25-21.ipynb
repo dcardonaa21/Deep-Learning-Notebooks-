{
  "nbformat": 4,
  "nbformat_minor": 0,
  "metadata": {
    "colab": {
      "name": "Array_shape_exercises.ipynb",
      "provenance": []
    },
    "kernelspec": {
      "name": "python3",
      "display_name": "Python 3"
    }
  },
  "cells": [
    {
      "cell_type": "code",
      "metadata": {
        "id": "Wqw8c6rXcsFN"
      },
      "source": [
        "import numpy as np"
      ],
      "execution_count": null,
      "outputs": []
    },
    {
      "cell_type": "code",
      "metadata": {
        "id": "LfRWlLG-dBCh"
      },
      "source": [
        "ejemplo1 = np.random.randn(3, 4)"
      ],
      "execution_count": null,
      "outputs": []
    },
    {
      "cell_type": "code",
      "metadata": {
        "colab": {
          "base_uri": "https://localhost:8080/"
        },
        "id": "cE1hY5kzdPRq",
        "outputId": "b1454f80-f159-401d-babe-5c97ce21dfee"
      },
      "source": [
        "ejemplo1.shape"
      ],
      "execution_count": null,
      "outputs": [
        {
          "output_type": "execute_result",
          "data": {
            "text/plain": [
              "(3, 4)"
            ]
          },
          "metadata": {
            "tags": []
          },
          "execution_count": 19
        }
      ]
    },
    {
      "cell_type": "code",
      "metadata": {
        "colab": {
          "base_uri": "https://localhost:8080/"
        },
        "id": "SJwoq-vbdlBX",
        "outputId": "89c3010c-6174-4719-96ab-00634ce75477"
      },
      "source": [
        "ejemplo1"
      ],
      "execution_count": null,
      "outputs": [
        {
          "output_type": "execute_result",
          "data": {
            "text/plain": [
              "array([[ 0.74106382, -0.47511134,  0.4868888 , -0.16067784],\n",
              "       [-0.1073899 , -0.02115867,  1.06325927, -1.07540347],\n",
              "       [ 1.17660092,  0.71327307,  0.52705737, -1.00352491]])"
            ]
          },
          "metadata": {
            "tags": []
          },
          "execution_count": 20
        }
      ]
    },
    {
      "cell_type": "code",
      "metadata": {
        "colab": {
          "base_uri": "https://localhost:8080/"
        },
        "id": "tEl1lbRldVMe",
        "outputId": "2ee90090-b08e-4d84-a248-b20a8ce27703"
      },
      "source": [
        "print(ejemplo1[1:2, 2:4])\r\n",
        "print(ejemplo1[1, [2,3]])\r\n",
        "print(ejemplo1[[1], [2,3]])\r\n",
        "print(ejemplo1[np.newaxis, 1, [2,3]])"
      ],
      "execution_count": null,
      "outputs": [
        {
          "output_type": "stream",
          "text": [
            "[[ 1.06325927 -1.07540347]]\n",
            "[ 1.06325927 -1.07540347]\n",
            "[ 1.06325927 -1.07540347]\n",
            "[[ 1.06325927 -1.07540347]]\n"
          ],
          "name": "stdout"
        }
      ]
    },
    {
      "cell_type": "markdown",
      "metadata": {
        "id": "a2aLH5YCe98n"
      },
      "source": [
        "\r\n",
        "`\r\n",
        "  [1.06325927   ,  -1.07540347\r\n",
        "  0.52705737    , -1.00352491\r\n",
        "`\r\n",
        "\r\n"
      ]
    },
    {
      "cell_type": "code",
      "metadata": {
        "colab": {
          "base_uri": "https://localhost:8080/"
        },
        "id": "6Fp3-6qwhV_s",
        "outputId": "39de945f-2e93-4803-c6e4-07ff725fffa1"
      },
      "source": [
        "print(ejemplo1[1:2, 2:4])\r\n",
        "print(ejemplo1[1:2, 2:4].shape)\r\n",
        "print(ejemplo1[1, [2,3]])\r\n",
        "print(ejemplo1[1, [2,3]].shape)\r\n",
        "print(ejemplo1[[1], [2,3]])\r\n",
        "print(ejemplo1[[1], [2,3]].shape)\r\n",
        "print(ejemplo1[np.newaxis, 1, [2,3]])\r\n",
        "print(ejemplo1[np.newaxis, 1, [2,3]].shape)"
      ],
      "execution_count": null,
      "outputs": [
        {
          "output_type": "stream",
          "text": [
            "[[ 1.06325927 -1.07540347]]\n",
            "(1, 2)\n",
            "[ 1.06325927 -1.07540347]\n",
            "(2,)\n",
            "[ 1.06325927 -1.07540347]\n",
            "(2,)\n",
            "[[ 1.06325927 -1.07540347]]\n",
            "(1, 2)\n"
          ],
          "name": "stdout"
        }
      ]
    },
    {
      "cell_type": "code",
      "metadata": {
        "id": "61mhYg_KhrzG"
      },
      "source": [
        "28, 28, 1\r\n",
        "28, 28, 1"
      ],
      "execution_count": null,
      "outputs": []
    },
    {
      "cell_type": "code",
      "metadata": {
        "id": "i9mho0VEjL9l"
      },
      "source": [
        "ejemplo4 = np.random.randn(100, 28, 28)"
      ],
      "execution_count": null,
      "outputs": []
    },
    {
      "cell_type": "code",
      "metadata": {
        "colab": {
          "base_uri": "https://localhost:8080/"
        },
        "id": "WWQA70ucjZQB",
        "outputId": "a1bbc7aa-5bbd-4f06-c0b9-4e39e6155e10"
      },
      "source": [
        "ejemplo4.shape"
      ],
      "execution_count": null,
      "outputs": [
        {
          "output_type": "execute_result",
          "data": {
            "text/plain": [
              "(100, 28, 28)"
            ]
          },
          "metadata": {
            "tags": []
          },
          "execution_count": 31
        }
      ]
    },
    {
      "cell_type": "code",
      "metadata": {
        "colab": {
          "base_uri": "https://localhost:8080/"
        },
        "id": "8I019I6mjb1i",
        "outputId": "91955d04-cbaf-44cd-d3f2-b2816180f30d"
      },
      "source": [
        "ejemplo5 = ejemplo4.reshape(100, 28, 1, 28, 1)\r\n",
        "ejemplo5.shape"
      ],
      "execution_count": null,
      "outputs": [
        {
          "output_type": "execute_result",
          "data": {
            "text/plain": [
              "(100, 28, 1, 28, 1)"
            ]
          },
          "metadata": {
            "tags": []
          },
          "execution_count": 34
        }
      ]
    }
  ]
}